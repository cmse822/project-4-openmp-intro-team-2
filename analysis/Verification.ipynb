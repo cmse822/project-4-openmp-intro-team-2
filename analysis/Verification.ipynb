{
 "cells": [
  {
   "cell_type": "markdown",
   "metadata": {},
   "source": [
    "# Verification\n",
    "\n",
    "This code verify the results from the parallel and serial runs.\n"
   ]
  },
  {
   "cell_type": "code",
   "execution_count": null,
   "metadata": {},
   "outputs": [],
   "source": [
    "import os\n",
    "import fnmatch\n",
    "import numpy as np\n",
    "import pandas as pd\n",
    "import matplotlib.pyplot as plt"
   ]
  },
  {
   "cell_type": "code",
   "execution_count": null,
   "metadata": {},
   "outputs": [],
   "source": [
    "# User defined variables.\n",
    "IOfolder = '../Matrices/'"
   ]
  },
  {
   "cell_type": "code",
   "execution_count": null,
   "metadata": {},
   "outputs": [],
   "source": [
    "# Read the available files.\n",
    "Res = {'Type': [], 'Size': [], 'Thread': [], 'Error': []}\n",
    "for fname in os.listdir(IOfolder):\n",
    "    if not fnmatch.fnmatch(fname, '*.csv') or 'matA' not in fname:\n",
    "        continue\n",
    "    \n",
    "    # Extract the data.\n",
    "    Size    = int(fname.split('_')[1])\n",
    "    Thread  = int(fname.split('_')[2])\n",
    "    RunType = fname.split('_')[3].replace('.csv', '')\n",
    "    \n",
    "    # Read the matrices.\n",
    "    A = np.loadtxt(os.path.join(IOfolder, fname), delimiter=',')\n",
    "    B = np.loadtxt(os.path.join(IOfolder, fname.replace('matA', 'matB')), delimiter=',')\n",
    "    C = np.loadtxt(os.path.join(IOfolder, fname.replace('matA', 'matC')), delimiter=',')\n",
    "    \n",
    "    # Calculate the actual C matrix.\n",
    "    Cexact = A @ B\n",
    "    \n",
    "    # Calculate the different and error.\n",
    "    Error = np.sum(np.abs(C - Cexact)) / C.shape[0] / C.shape[1]\n",
    "    \n",
    "    Res['Type'].append(RunType)\n",
    "    Res['Size'].append(Size)\n",
    "    Res['Thread'].append(Thread)\n",
    "    Res['Error'].append(Error)"
   ]
  },
  {
   "cell_type": "code",
   "execution_count": null,
   "metadata": {},
   "outputs": [],
   "source": [
    "# Convert to a DataFrame.\n",
    "Res = pd.DataFrame(Res)\n",
    "Res.sort_values(by=['Type', 'Size', 'Thread'], ascending=[True, True, True], inplace=True)\n",
    "Res"
   ]
  },
  {
   "cell_type": "code",
   "execution_count": null,
   "metadata": {},
   "outputs": [],
   "source": [
    "np.sum(A)"
   ]
  },
  {
   "cell_type": "code",
   "execution_count": null,
   "metadata": {},
   "outputs": [],
   "source": []
  }
 ],
 "metadata": {
  "kernelspec": {
   "display_name": "updaps",
   "language": "python",
   "name": "python3"
  },
  "language_info": {
   "name": "python",
   "version": "3.8.17"
  }
 },
 "nbformat": 4,
 "nbformat_minor": 2
}
